{
  "cells": [
    {
      "cell_type": "markdown",
      "source": [
        "# 🤖 Agentic Plugin Demo\n",
        "This notebook demonstrates a SynQ plugin that adapts over time via memory and rewriting logic."
      ]
    },
    {
      "cell_type": "code",
      "source": [
        "from synq_repl import REPL\n",
        "import json\n",
        "\n",
        "repl = REPL()"
      ]
    },
    {
      "cell_type": "markdown",
      "source": [
        "## 🔁 Run Plugin and View Behavior"
      ]
    },
    {
      "cell_type": "code",
      "source": [
        "for i in range(7):\n",
        "    result = repl.invoke_plugin(\"agentic_plugin\", {\"input\": f\"test #{i}\"})\n",
        "    print(f\"Run {i + 1} →\", result)"
      ]
    },
    {
      "cell_type": "markdown",
      "source": [
        "## ✍️ Provide Feedback"
      ]
    },
    {
      "cell_type": "code",
      "source": [
        "feedbacks = [\n",
        "    \"Should respond faster\",\n",
        "    \"Needs better formatting\",\n",
        "    \"Add emoji in output\"\n",
        "]\n",
        "\n",
        "for fb in feedbacks:\n",
        "    res = repl.execute(f\"agentic_plugin.give_feedback('{fb}')\")\n",
        "    print(\"Feedback:\", fb, \"→\", res)"
      ]
    },
    {
      "cell_type": "markdown",
      "source": [
        "## 🧠 Final Call After Feedback + Memory"
      ]
    },
    {
      "cell_type": "code",
      "source": [
        "final = repl.invoke_plugin(\"agentic_plugin\", {\"input\": \"Final check\"})\n",
        "print(\"Final result:\", final)"
      ]
    },
    {
      "cell_type": "markdown",
      "source": [
        "## 🔍 Source Inspection (After Rewrite)"
      ]
    },
    {
      "cell_type": "code",
      "source": [
        "source = repl.execute(\"@system.plugin_source('agentic_plugin')\")\n",
        "print(source)"
      ]
    }
  ],
  "metadata": {
    "kernelspec": {
      "display_name": "Python 3",
      "language": "python",
      "name": "python3"
    },
    "language_info": {
      "name": "python",
      "version": "3.x"
    }
  },
  "nbformat": 4,
  "nbformat_minor": 2
}