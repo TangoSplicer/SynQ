{
  "cells": [
    {
      "cell_type": "markdown",
      "source": [
        "# 🔁 Multi-Agent: AI Model Switching Demo\n",
        "Demonstrates switching between Copilot, LLaMA, and SynqCore during task decomposition."
      ]
    },
    {
      "cell_type": "code",
      "source": [
        "from synq_repl import REPL\n",
        "repl = REPL()\n",
        "\n",
        "# Example complex task\n",
        "goal = \"Clean user input, analyze intent, generate a response\"\n",
        "repl.execute(f\"chain_model_switch('{goal}')\")"
      ]
    }
  ],
  "metadata": {
    "kernelspec": { "display_name": "Python 3", "language": "python", "name": "python3" },
    "language_info": { "name": "python" }
  },
  "nbformat": 4,
  "nbformat_minor": 2
}