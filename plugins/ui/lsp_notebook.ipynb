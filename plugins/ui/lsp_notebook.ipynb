{
  "cells": [
    {
      "cell_type": "markdown",
      "source": [
        "# 🧠 SynQ Language Server Notebook\n",
        "**Explore SynQ LSP features in a notebook-powered playground.**\n",
        "- Realtime diagnostics\n",
        "- Hover info\n",
        "- Go-to-definition\n",
        "- AI inline suggestions\n",
        "- Code refactor engine"
      ]
    },
    {
      "cell_type": "code",
      "source": [
        "from synq_lsp import LSPServer\n",
        "server = LSPServer()\n",
        "server.initialize()"
      ]
    },
    {
      "cell_type": "code",
      "source": [
        "# ✍️ Input a SynQ code snippet to analyze\n",
        "code = \"\"\"\n",
        "let x = 10;;\n",
        "let y = x + 2;\n",
        "\"\"\""
      ]
    },
    {
      "cell_type": "code",
      "source": [
        "# 🚨 Run diagnostics\n",
        "diagnostic_json = server.handle_request('''{\n",
        "  \"method\": \"textDocument/publishDiagnostics\",\n",
        "  \"params\": {\"text\": \"" + code.replace("\\n", "\\\\n") + "\"}\n",
        "}''')\n",
        "print(diagnostic_json)"
      ]
    },
    {
      "cell_type": "code",
      "source": [
        "# 🧩 Hover info (line 0, character 4)\n",
        "hover_json = server.handle_request('''{\n",
        "  \"method\": \"textDocument/hover\",\n",
        "  \"params\": {\n",
        "    \"text\": \"" + code.replace("\\n", "\\\\n") + "\",\n",
        "    \"position\": {\"line\": 0, \"character\": 4}\n",
        "  }\n",
        "}''')\n",
        "print(hover_json)"
      ]
    },
    {
      "cell_type": "code",
      "source": [
        "# 📚 Symbol tree\n",
        "symbol_tree = server.handle_request('''{\n",
        "  \"method\": \"textDocument/documentSymbol\",\n",
        "  \"params\": {\"text\": \"" + code.replace(\"\\n\", \"\\\\n\") + "\"}\n",
        "}''')\n",
        "print(symbol_tree)"
      ]
    },
    {
      "cell_type": "code",
      "source": [
        "# 🧠 AI refactor suggestion\n",
        "refactor_json = server.handle_request('''{\n",
        "  \"method\": \"textDocument/refactor\",\n",
        "  \"params\": {\"text\": \"" + code.replace(\"\\n\", \"\\\\n\") + "\"}\n",
        "}''')\n",
        "print(refactor_json)"
      ]
    },
    {
      "cell_type": "code",
      "source": [
        "# ✨ Inline suggestion for token 'x'\n",
        "inline_json = server.handle_request('''{\n",
        "  \"method\": \"textDocument/suggestInlineEdit\",\n",
        "  \"params\": {\"text\": \"" + code.replace(\"\\n\", \"\\\\n\") + "\", \"token\": \"x\"}\n",
        "}''')\n",
        "print(inline_json)"
      ]
    }
  ],
  "metadata": {
    "kernelspec": {
      "display_name": "Python 3",
      "language": "python",
      "name": "python3"
    },
    "language_info": {
      "name": "python"
    }
  },
  "nbformat": 4,
  "nbformat_minor": 2
}