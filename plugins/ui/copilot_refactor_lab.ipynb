{
  "cells": [
    {
      "cell_type": "markdown",
      "source": [
        "# ✨ Copilot Refactor Lab\n",
        "Use this notebook to refactor and preview safe changes to SynQ plugins."
      ]
    },
    {
      "cell_type": "code",
      "source": [
        "from difflib import unified_diff\n",
        "\n",
        "def load_plugin(path):\n",
        "    with open(path) as f:\n",
        "        return f.readlines()\n",
        "\n",
        "def apply_patch(lines):\n",
        "    patched = []\n",
        "    for line in lines:\n",
        "        if 'return' in line:\n",
        "            patched.append(line.replace(\"return\", \"// Copilot-modified\\n    return\"))\n",
        "        else:\n",
        "            patched.append(line)\n",
        "    return patched\n",
        "\n",
        "# Load original\n",
        "orig = load_plugin(\"agentic_plugin.synq\")\n",
        "patched = apply_patch(orig)\n",
        "\n",
        "# Show diff\n",
        "diff = unified_diff(orig, patched, fromfile='original', tofile='copilot_patch')\n",
        "print(''.join(diff))"
      ]
    }
  ],
  "metadata": {
    "kernelspec": {
      "display_name": "Python 3",
      "language": "python",
      "name": "python3"
    },
    "language_info": {
      "name": "python",
      "version": "3.x"
    }
  },
  "nbformat": 4,
  "nbformat_minor": 2
}