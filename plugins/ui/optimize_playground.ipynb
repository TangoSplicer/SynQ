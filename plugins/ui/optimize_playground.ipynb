---

### 📄 `synq/plugins/ui/optimize_playground.ipynb`

```json
{
  "cells": [
    {
      "cell_type": "markdown",
      "source": [
        "# ⚙️ SynQ Optimize Playground\n",
        "Run cost estimators, AST refactors, and AI code improvements."
      ]
    },
    {
      "cell_type": "code",
      "source": [
        "from synq_debug import analyze_ast, refactor_ast, suggest_rewrites\n",
        "\n",
        "# Sample input\n",
        "code = \"\"\"\n",
        "macro run() {\n",
        "  let i = 0;\n",
        "  while (i < 10) {\n",
        "    noop;\n",
        "    i += 1;\n",
        "  }\n",
        "  unreachable;\n",
        "}\n",
        "\"\"\"\n",
        "\n",
        "# Analyze\n",
        "print(\"--- Static Analysis ---\")\n",
        "print(analyze_ast(code))"
      ]
    },
    {
      "cell_type": "code",
      "source": [
        "# Refactor\n",
        "print(\"\\n--- Refactor Suggestions ---\")\n",
        "refactored = refactor_ast(code)\n",
        "print(refactored)"
      ]
    },
    {
      "cell_type": "code",
      "source": [
        "# AI Rewrite\n",
        "print(\"\\n--- AI Rewrite ---\")\n",
        "print(suggest_rewrites(code))"
      ]
    }
  ],
  "metadata": {
    "kernelspec": { "display_name": "Python 3", "language": "python", "name": "python3" },
    "language_info": { "name": "python" }
  },
  "nbformat": 4,
  "nbformat_minor": 2
}