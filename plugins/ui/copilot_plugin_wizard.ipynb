{
  "cells": [
    {
      "cell_type": "markdown",
      "source": [
        "# ✨ SynQ Plugin Wizard\n",
        "Use this to generate plugin boilerplate based on your intent."
      ]
    },
    {
      "cell_type": "code",
      "execution_count": null,
      "outputs": [],
      "source": [
        "from synq_repl import REPL\n",
        "import json\n",
        "import ipywidgets as widgets\n",
        "from IPython.display import display\n",
        "\n",
        "repl = REPL()\n",
        "\n",
        "prompt = widgets.Textarea(placeholder='Describe your plugin goal...')\n",
        "run_btn = widgets.Button(description='Generate')\n",
        "output = widgets.Output()\n",
        "\n",
        "def gen_plugin(_):\n",
        "    task = prompt.value\n",
        "    result = repl.execute(f\"plugin_suggest_template('{task}')\")\n",
        "    with output:\n",
        "        output.clear_output()\n",
        "        print(\"--- Suggested Plugin Template ---\")\n",
        "        print(json.dumps(result, indent=2))\n",
        "\n",
        "run_btn.on_click(gen_plugin)\n",
        "display(prompt, run_btn, output)"
      ]
    }
  ],
  "metadata": {
    "kernelspec": { "display_name": "Python 3", "language": "python", "name": "python3" },
    "language_info": { "name": "python", "version": "3.x" }
  },
  "nbformat": 4,
  "nbformat_minor": 2
}