{
  "cells": [
    {
      "cell_type": "markdown",
      "metadata": {},
      "source": [
        "# 🔌 SynQ Plugin Store (Live REPL UI)\n",
        "Interact with the REPL-based plugin system in real time."
      ]
    },
    {
      "cell_type": "code",
      "execution_count": null,
      "metadata": {},
      "outputs": [],
      "source": [
        "import ipywidgets as widgets\n",
        "from IPython.display import display\n",
        "from synq_repl import REPL\n",
        "\n",
        "repl = REPL()\n",
        "plugin_meta = repl.list_plugins()\n",
        "plugin_names = [p['name'] for p in plugin_meta]\n",
        "\n",
        "dropdown = widgets.Dropdown(\n",
        "    options=plugin_names,\n",
        "    description='Plugin:'\n",
        ")\n",
        "install_btn = widgets.Button(description='Install')\n",
        "load_btn = widgets.Button(description='Load')\n",
        "refresh_btn = widgets.Button(description='Refresh')\n",
        "output = widgets.Output()\n",
        "\n",
        "def install_plugin(b):\n",
        "    name = dropdown.value\n",
        "    for plugin in plugin_meta:\n",
        "        if plugin['name'] == name:\n",
        "            repl.register_plugin(name, plugin['version'], plugin['description'], plugin.get('handler', 'none'))\n",
        "            with output:\n",
        "                print(f\"[✓] Registered {name}\")\n",
        "            break\n",
        "\n",
        "def load_plugin(b):\n",
        "    name = dropdown.value\n",
        "    result = repl.invoke_plugin(name, {})\n",
        "    with output:\n",
        "        print(f\"[→] Invoked {name}: {result}\")\n",
        "\n",
        "def refresh_plugins(b):\n",
        "    global plugin_meta, plugin_names\n",
        "    plugin_meta = repl.list_plugins()\n",
        "    plugin_names = [p['name'] for p in plugin_meta]\n",
        "    dropdown.options = plugin_names\n",
        "\n",
        "install_btn.on_click(install_plugin)\n",
        "load_btn.on_click(load_plugin)\n",
        "refresh_btn.on_click(refresh_plugins)\n",
        "\n",
        "display(widgets.VBox([\n",
        "    dropdown,\n",
        "    widgets.HBox([install_btn, load_btn, refresh_btn]),\n",
        "    output\n",
        "]))"
      ]
    }
  ],
  "metadata": {
    "kernelspec": { "display_name": "Python 3", "language": "python", "name": "python3" },
    "language_info": { "name": "python", "version": "3.x" }
  },
  "nbformat": 4,
  "nbformat_minor": 2
}