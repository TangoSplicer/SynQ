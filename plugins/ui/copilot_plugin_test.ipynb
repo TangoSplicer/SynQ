{
  "cells": [
    {
      "cell_type": "markdown",
      "metadata": {},
      "source": [
        "# 🤖 Copilot Plugin Agent UI\n",
        "Use this notebook to route prompts through Copilot plugin modes."
      ]
    },
    {
      "cell_type": "code",
      "metadata": {},
      "execution_count": null,
      "outputs": [],
      "source": [
        "from synq_repl import REPL\n",
        "import ipywidgets as widgets\n",
        "from IPython.display import display\n",
        "import json\n",
        "import enum\n",
        "\n",
        "# Mode emulation\n",
        "class CopilotMode(enum.Enum):\n",
        "    Ghostwriter = 0\n",
        "    ELI5 = 1\n",
        "    Debugger = 2\n",
        "    Hardcore = 3\n",
        "\n",
        "# Emulate CopilotAgent logic\n",
        "repl = REPL()\n",
        "\n",
        "def suggest_plugin(prompt):\n",
        "    if 'debug' in prompt: return 'visual_debugger'\n",
        "    if 'expand' in prompt: return 'ai_expand'\n",
        "    return 'qsim_speedup'\n",
        "\n",
        "def copilot_route(plugin, payload, mode):\n",
        "    if mode == CopilotMode.Ghostwriter:\n",
        "        return f\"// Ghostwriter suggestion\\n// Plugin {plugin} returned:\\n\" + \\\n",
        "               json.dumps(repl.invoke_plugin(plugin, payload), indent=2)\n",
        "    elif mode == CopilotMode.ELI5:\n",
        "        return f\"📘 ELI5 Output for {plugin}:\\n\" + \\\n",
        "               json.dumps(repl.invoke_plugin(plugin, payload), indent=2) + \\\n",
        "               \"\\n🧠 Think of it like a helper AI!\"\n",
        "    elif mode == CopilotMode.Debugger:\n",
        "        return f\"🛠 Plugin Trace for {plugin}:\\n\" + \\\n",
        "               json.dumps(repl.invoke_plugin(plugin, payload), indent=2)\n",
        "    elif mode == CopilotMode.Hardcore:\n",
        "        return json.dumps(repl.invoke_plugin(plugin, payload), indent=2)\n",
        "\n",
        "# UI Widgets\n",
        "prompt = widgets.Textarea(description='Query:', layout=widgets.Layout(width='auto', height='60px'))\n",
        "mode_select = widgets.Dropdown(options=[(m.name, m) for m in CopilotMode], description='Mode:')\n",
        "run_btn = widgets.Button(description='Run Copilot')\n",
        "output = widgets.Output()\n",
        "\n",
        "def run_copilot(_):\n",
        "    plugin = suggest_plugin(prompt.value)\n",
        "    payload = {}  # Expand as needed\n",
        "    mode = mode_select.value\n",
        "    result = copilot_route(plugin, payload, mode)\n",
        "    with output:\n",
        "        output.clear_output()\n",
        "        print(result)\n",
        "\n",
        "run_btn.on_click(run_copilot)\n",
        "\n",
        "display(widgets.VBox([prompt, mode_select, run_btn, output]))"
      ]
    }
  ],
  "metadata": {
    "kernelspec": { "display_name": "Python 3", "language": "python", "name": "python3" },
    "language_info": { "name": "python", "version": "3.x" }
  },
  "nbformat": 4,
  "nbformat_minor": 2
}