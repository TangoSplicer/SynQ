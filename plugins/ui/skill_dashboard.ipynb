{
  "cells": [
    {
      "cell_type": "markdown",
      "source": [
        "# 📊 Skill Usage Dashboard\n",
        "Interactive heatmap and charts for plugin skill usage analytics."
      ]
    },
    {
      "cell_type": "code",
      "source": [
        "import pandas as pd\n",
        "import json\n",
        "import matplotlib.pyplot as plt\n",
        "import seaborn as sns\n",
        "from datetime import datetime\n",
        "\n",
        "log_path = \"logs/skill_usage.jsonl\"\n",
        "rows = []\n",
        "with open(log_path) as f:\n",
        "    for line in f:\n",
        "        entry = json.loads(line)\n",
        "        entry['time'] = datetime.fromtimestamp(entry['timestamp'])\n",
        "        rows.append(entry)\n",
        "\n",
        "df = pd.DataFrame(rows)\n",
        "df['date'] = df['time'].dt.date"
      ]
    },
    {
      "cell_type": "code",
      "source": [
        "# Skill usage over time\n",
        "pivot = df.pivot_table(index='date', columns='skill', values='success', aggfunc='count', fill_value=0)\n",
        "pivot.plot(kind='bar', stacked=True, figsize=(12, 6), colormap='viridis')\n",
        "plt.title('Skill Usage Per Day')\n",
        "plt.ylabel('Calls')\n",
        "plt.show()"
      ]
    },
    {
      "cell_type": "code",
      "source": [
        "# Heatmap of plugins vs skills\n",
        "heat = df.pivot_table(index='plugin', columns='skill', values='success', aggfunc='count', fill_value=0)\n",
        "plt.figure(figsize=(10, 6))\n",
        "sns.heatmap(heat, annot=True, fmt='d', cmap='Blues')\n",
        "plt.title('Plugin–Skill Usage Heatmap')\n",
        "plt.show()"
      ]
    },
    {
      "cell_type": "code",
      "source": [
        "# Success rate per skill\n",
        "success_df = df.groupby('skill')['success'].agg(['count', 'sum'])\n",
        "success_df['rate'] = 100 * success_df['sum'] / success_df['count']\n",
        "success_df[['rate']].plot(kind='bar', legend=False, color='green')\n",
        "plt.title('Skill Success Rate')\n",
        "plt.ylabel('%')\n",
        "plt.show()"
      ]
    }
  ],
  "metadata": {
    "kernelspec": {
      "display_name": "Python 3",
      "language": "python",
      "name": "python3"
    },
    "language_info": {
      "name": "python"
    }
  },
  "nbformat": 4,
  "nbformat_minor": 2
}