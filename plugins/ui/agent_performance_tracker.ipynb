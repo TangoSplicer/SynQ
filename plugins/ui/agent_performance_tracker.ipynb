{
  "cells": [
    {
      "cell_type": "markdown",
      "source": [
        "# 📊 Agent Performance Tracker\n",
        "Tracks skill success rate and latency over time for each agent."
      ]
    },
    {
      "cell_type": "code",
      "source": [
        "import pandas as pd\n",
        "import json\n",
        "import matplotlib.pyplot as plt\n",
        "import seaborn as sns\n",
        "from datetime import datetime\n",
        "\n",
        "with open('logs/agent_performance.jsonl') as f:\n",
        "    records = [json.loads(line) for line in f]\n",
        "\n",
        "df = pd.DataFrame(records)\n",
        "df['timestamp'] = pd.to_datetime(df['timestamp'], unit='s')\n",
        "df['date'] = df['timestamp'].dt.date\n",
        "\n",
        "# Success Rate\n",
        "success_rate = df.groupby('agent')['success'].agg(['count','sum'])\n",
        "success_rate['rate'] = 100 * success_rate['sum'] / success_rate['count']\n",
        "success_rate['rate'].plot(kind='bar', color='green')\n",
        "plt.title('Agent Success Rate')\n",
        "plt.ylabel('%')\n",
        "plt.show()"
      ]
    },
    {
      "cell_type": "code",
      "source": [
        "# Latency Distribution\n",
        "sns.boxplot(data=df, x='agent', y='latency')\n",
        "plt.title('Agent Latency (ms)')\n",
        "plt.show()"
      ]
    }
  ],
  "metadata": {
    "kernelspec": { "display_name": "Python 3", "language": "python", "name": "python3" },
    "language_info": { "name": "python" }
  },
  "nbformat": 4,
  "nbformat_minor": 2
}