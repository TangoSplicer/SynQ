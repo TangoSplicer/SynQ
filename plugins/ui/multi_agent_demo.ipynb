{
  "cells": [
    {
      "cell_type": "markdown",
      "source": [
        "# 🤖 Multi-Agent Skill Collaboration Demo\n",
        "Demonstrate collaborative goal solving via distributed plugin skills."
      ]
    },
    {
      "cell_type": "code",
      "source": [
        "from synq_repl import REPL\n",
        "repl = REPL()\n",
        "repl.execute(\"collaborative_agent.init()\")"
      ]
    },
    {
      "cell_type": "code",
      "source": [
        "# Example: complex task goal\n",
        "goal = \"Summarize raw HTML text and lint the code\"\n",
        "result = repl.execute(f\"collaborative_agent.solve('{goal}')\")\n",
        "for r in result:\n",
        "    print(f\"✅ {r['task']} → {r['plugin']} → {r['output']}\")"
      ]
    },
    {
      "cell_type": "markdown",
      "source": [
        "### 🔁 Custom Goal Example"
      ]
    },
    {
      "cell_type": "code",
      "source": [
        "user_goal = input(\"Enter your task:\")\n",
        "res = repl.execute(f\"collaborative_agent.solve('{user_goal}')\")\n",
        "print(res)"
      ]
    }
  ],
  "metadata": {
    "kernelspec": {
      "display_name": "Python 3",
      "language": "python",
      "name": "python3"
    },
    "language_info": {
      "name": "python"
    }
  },
  "nbformat": 4,
  "nbformat_minor": 2
}