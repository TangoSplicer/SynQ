{
  "cells": [
    {
      "cell_type": "markdown",
      "source": [
        "# 🔒 Plugin Sandbox Inspector\n",
        "Visualize plugin policy violations, memory usage, and timeouts"
      ]
    },
    {
      "cell_type": "code",
      "source": [
        "from synq_debug import get_violation_log\n",
        "\n",
        "violations = get_violation_log()\n",
        "for v in violations:\n",
        "    print(f\"🔻 Plugin: {v.plugin_id} | Issue: {v.message} | Node: {v.node_type} | Time: {v.timestamp}\")"
      ]
    },
    {
      "cell_type": "code",
      "source": [
        "# Optionally clear after review\n",
        "# from synq_debug import clear_violation_log\n",
        "# clear_violation_log()"
      ]
    }
  ],
  "metadata": {
    "kernelspec": { "display_name": "Python 3", "language": "python", "name": "python3" },
    "language_info": { "name": "python" }
  },
  "nbformat": 4,
  "nbformat_minor": 2
}