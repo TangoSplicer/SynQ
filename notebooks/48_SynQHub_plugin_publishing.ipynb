{
 "cells": [
  {
   "cell_type": "markdown",
   "id": "d8cb71b5",
   "metadata": {},
   "source": [
    "# Notebook 48: SynQHub Plugin Publishing Walkthrough"
   ]
  },
  {
   "cell_type": "markdown",
   "id": "0244e641",
   "metadata": {},
   "source": [
    "This notebook guides you through publishing a SynQ plugin to SynQHub."
   ]
  },
  {
   "cell_type": "code",
   "execution_count": null,
   "id": "3bd074af",
   "metadata": {},
   "outputs": [],
   "source": [
    "# Step 1: Define your plugin\n",
    "!cat ./plugins/demo_plugin.synq"
   ]
  },
  {
   "cell_type": "code",
   "execution_count": null,
   "id": "4faad6ee",
   "metadata": {},
   "outputs": [],
   "source": [
    "# Step 2: Register it\n",
    "!synq plugin register ./plugins/demo_plugin.synq"
   ]
  },
  {
   "cell_type": "code",
   "execution_count": null,
   "id": "3b2e8b65",
   "metadata": {},
   "outputs": [],
   "source": [
    "# Step 3: Push to SynQHub\n",
    "!synq push --plugin demo_plugin --token $SYNQ_TOKEN"
   ]
  },
  {
   "cell_type": "code",
   "execution_count": null,
   "id": "1d429b1e",
   "metadata": {},
   "outputs": [],
   "source": [
    "# Step 4: Verify on SynQHub\n",
    "!synq plugin info demo_plugin"
   ]
  }
 ],
 "metadata": {},
 "nbformat": 4,
 "nbformat_minor": 5
}