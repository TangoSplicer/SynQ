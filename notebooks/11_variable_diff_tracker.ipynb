{
 "cells": [
  {
   "cell_type": "markdown",
   "metadata": {},
   "source": "# 11: Variable Diff Tracker\n\nTake snapshots of runtime state and view differences."
  },
  {
   "cell_type": "code",
   "execution_count": null,
   "metadata": {},
   "outputs": [],
   "source": "from synq.debugger import live_diff_view as diff\nfrom synq.runtime import eval_context as ctx\n\nctx.define(\"a\", \"5\")\nctx.define(\"b\", \"10\")\ndiff.takeSnapshot(\"s1\")\n\nctx.define(\"b\", \"11\")\nctx.define(\"c\", \"new\")\ndiff.takeSnapshot(\"s2\")\n\ndiff.diffSnapshots(\"s1\", \"s2\")"
  }
 ],
 "metadata": {},
 "nbformat": 4,
 "nbformat_minor": 2
}