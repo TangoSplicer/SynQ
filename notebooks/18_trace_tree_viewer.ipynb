{
 "cells": [
  {
   "cell_type": "markdown",
   "metadata": {},
   "source": "# 18: Trace Tree Viewer\n\nVisual representation of function call hierarchy."
  },
  {
   "cell_type": "code",
   "execution_count": null,
   "metadata": {},
   "outputs": [],
   "source": "from synq.debugger import debug_trace_tree\n\ndebug_trace_tree.enterFunction(\"main\")\ndebug_trace_tree.enterFunction(\"evaluate\")\ndebug_trace_tree.exitFunction()\ndebug_trace_tree.exitFunction()\n\ndebug_trace_tree.printTrace()"
  }
 ],
 "metadata": {},
 "nbformat": 4,
 "nbformat_minor": 2
}