{
 "cells": [
  {
   "cell_type": "markdown",
   "metadata": {},
   "source": [
    "# 📊 SynQ Skillmap Inspector\n",
    "Visualize plugin and AI tool usage, speed, and performance deltas."
   ]
  },
  {
   "cell_type": "code",
   "execution_count": null,
   "metadata": {},
   "outputs": [],
   "source": [
    "import json\n",
    "import matplotlib.pyplot as plt\n",
    "import os\n",
    "\n",
    "path = '../build/skillmap_telemetry.json'\n",
    "if not os.path.exists(path):\n",
    "    raise FileNotFoundError(\"No telemetry data found\")\n",
    "\n",
    "with open(path) as f:\n",
    "    data = json.load(f)\n",
    "\n",
    "for plugin, variants in data.items():\n",
    "    print(f\"\\n🧩 Plugin: {plugin}\")\n",
    "    for variant, stats in variants.items():\n",
    "        print(f\"  ◾ Variant: {variant}\")\n",
    "        print(f\"     Uses: {stats['uses']}\")\n",
    "        print(f\"     Accuracy: {stats['accuracy_avg']:.2f}\")\n",
    "        print(f\"     Speed: {stats['speed_avg']:.2f}\")\n",
    "        print(f\"     Hallucination: {stats['hallucination_rate']:.2f}\")\n",
    "\n",
    "        # Plot bar chart\n",
    "        plt.bar([\"Accuracy\", \"Speed\", \"Hallucination\"],\n",
    "                [stats['accuracy_avg'], stats['speed_avg'], stats['hallucination_rate']])\n",
    "        plt.title(f\"{plugin} - {variant}\")\n",
    "        plt.ylim(0, 1)\n",
    "        plt.show()"
   ]
  }
 ],
 "metadata": {
  "kernelspec": {
   "display_name": "Python 3",
   "language": "python",
   "name": "python3"
  },
  "language_info": {
   "name": "python"
  }
 },
 "nbformat": 4,
 "nbformat_minor": 5
}