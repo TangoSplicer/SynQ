{
 "cells": [
  {
   "cell_type": "markdown",
   "metadata": {},
   "source": "# 16: Variable Visualizer\n\nCapture and display live variable states during debugging."
  },
  {
   "cell_type": "code",
   "execution_count": null,
   "metadata": {},
   "outputs": [],
   "source": "from synq.debugger import symbol_visualizer\n\nsymbol_visualizer.define(\"count\", 7)\nsymbol_visualizer.define(\"status\", \"running\")\nsymbol_visualizer.showAll()"
  }
 ],
 "metadata": {},
 "nbformat": 4,
 "nbformat_minor": 2
}