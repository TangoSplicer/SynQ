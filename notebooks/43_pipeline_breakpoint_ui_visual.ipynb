{
 "nbformat": 4,
 "nbformat_minor": 5,
 "metadata": {
  "kernelspec": {
   "display_name": "SynQ Kernel",
   "language": "python",
   "name": "python3"
  },
  "language_info": {
   "name": "python",
   "version": "3.10"
  }
 },
 "cells": [
  {
   "cell_type": "markdown",
   "source": [
    "# 🧩 Visual Pipeline Debugger UI\n",
    "This notebook simulates a visual pipeline debugger.\n",
    "\n",
    "✅ Breakpoint indicators\n",
    "✅ Execution stage\n",
    "✅ REPL + log output"
   ]
  },
  {
   "cell_type": "code",
   "execution_count": null,
   "source": [
    "from IPython.display import display, Markdown, clear_output\n",
    "import time\n",
    "\n",
    "class VisualDebugger:\n",
    "    def __init__(self):\n",
    "        self.stage = None\n",
    "        self.status = \"idle\"\n",
    "        self.breakpoints = set()\n",
    "        self.logs = []\n",
    "\n",
    "    def set_breakpoints(self, bps):\n",
    "        self.breakpoints = set(bps)\n",
    "\n",
    "    def step(self, stage):\n",
    "        self.stage = stage\n",
    "        if stage in self.breakpoints:\n",
    "            self.status = \"paused\"\n",
    "            self.logs.append(f\"🛑 Breakpoint hit at `{stage}`\")\n",
    "        else:\n",
    "            self.status = \"running\"\n",
    "            self.logs.append(f\"▶ Executing `{stage}`\")\n",
    "\n",
    "        self.render()\n",
    "\n",
    "        if self.status == \"paused\":\n",
    "            input(\"Press Enter to continue...\")\n",
    "\n",
    "    def render(self):\n",
    "        clear_output(wait=True)\n",
    "        md = f\"\"\"\n",
    "### 🔍 SynQ Pipeline Debugger UI\n",
    "- **Current Stage:** `{self.stage}`\n",
    "- **Status:** `{self.status}`\n",
    "- **Breakpoints:** {', '.join(self.breakpoints) if self.breakpoints else 'None'}\n",
    "\n",
    "**Logs:**\n",
    "{chr(10).join(f'- {log}' for log in self.logs[-5:])}\n",
    "\"\"\"\n",
    "        display(Markdown(md))\n",
    "\n",
    "# Simulate debugger\n",
    "debugger = VisualDebugger()\n",
    "debugger.set_breakpoints([\"Quantum Bell Pair\", \"AI Summary\"])\n",
    "\n",
    "pipeline = [\n",
    "    \"Classical Init\",\n",
    "    \"Quantum Bell Pair\",\n",
    "    \"Post-Processing\",\n",
    "    \"AI Summary\",\n",
    "    \"Final Report\"\n",
    "]\n",
    "\n",
    "for stage in pipeline:\n",
    "    debugger.step(stage)\n",
    "    time.sleep(0.8)"
   ],
   "outputs": [],
   "metadata": {}
  }
 ]
}