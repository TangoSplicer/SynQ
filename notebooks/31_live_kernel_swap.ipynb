{
 "cells": [
  {
   "cell_type": "markdown",
   "metadata": {},
   "source": "# 31: Live Kernel Swap\n\nSwitch between classical and quantum execution kernels."
  },
  {
   "cell_type": "code",
   "execution_count": null,
   "metadata": {},
   "outputs": [],
   "source": "from synq.kernel import kernel_swap\n\nkernel_swap.activate(\"classical\")\n# Run some code...\nkernel_swap.activate(\"quantum\")\n# Continue execution with same stack/memory"
  }
 ],
 "metadata": {},
 "nbformat": 4,
 "nbformat_minor": 2
}