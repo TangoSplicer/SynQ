{
 "cells": [
  {
   "cell_type": "markdown",
   "metadata": {},
   "source": "# 12: Timeline Scrubber\n\nSimulate interactive scrubbing of program execution timeline."
  },
  {
   "cell_type": "code",
   "execution_count": null,
   "metadata": {},
   "outputs": [],
   "source": "from synq.debugger import trace_timeline\n\ntrace_timeline.log(\"main\", {\"a\": 1})\ntrace_timeline.log(\"compute\", {\"a\": 2, \"b\": 3})\ntrace_timeline.log(\"helper\", {\"b\": 3, \"c\": 4})\n\n# Playback\ntrace_timeline.replay()\ntrace_timeline.scrubTo(1)"
  }
 ],
 "metadata": {},
 "nbformat": 4,
 "nbformat_minor": 2
}