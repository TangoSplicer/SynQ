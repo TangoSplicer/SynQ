{
 "cells": [
  {
   "cell_type": "markdown",
   "metadata": {},
   "source": "# 09: Breakpoint Simulation\n\nShows how breakpoints are defined and triggered manually."
  },
  {
   "cell_type": "code",
   "execution_count": null,
   "metadata": {},
   "outputs": [],
   "source": "from synq.debugger import debugger_core as dbg\n\ndbg.defineBreakpoint(\"compute\")\nprint(\"Breakpoint at 'compute'? ->\", dbg.isBreakpoint(\"compute\"))\n\ndbg.runCommand(\"break risky_math\")\ndbg.runCommand(\"unbreak compute\")\ndbg.printHelp()"
  }
 ],
 "metadata": {},
 "nbformat": 4,
 "nbformat_minor": 2
}