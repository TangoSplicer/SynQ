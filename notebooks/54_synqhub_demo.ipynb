{
 "cells": [
  {
   "cell_type": "markdown",
   "metadata": {},
   "source": [
    "# ☁️ SynQHUB Plugin Demo\n",
    "This notebook demonstrates interaction with SynQHUB:\n",
    "- Remote plugin publishing\n",
    "- Pulling plugins\n",
    "- Syncing metadata\n",
    "- Verifying plugin signature\n"
   ]
  },
  {
   "cell_type": "code",
   "execution_count": null,
   "metadata": {},
   "outputs": [],
   "source": [
    "from src.plugin.registry import remote_hub\n",
    "\n",
    "# 🔼 Publish Plugin\n",
    "remote_hub.publish_plugin_to_synqhub(\"qchem_opt\", team=\"quantlab\")"
   ]
  },
  {
   "cell_type": "code",
   "execution_count": null,
   "metadata": {},
   "outputs": [],
   "source": [
    "# 🔽 Pull Plugin\n",
    "remote_hub.pull_plugin_from_synqhub(\"qchem_opt\")"
   ]
  },
  {
   "cell_type": "code",
   "execution_count": null,
   "metadata": {},
   "outputs": [],
   "source": [
    "# 🔁 Sync SynQHUB Metadata\n",
    "remote_hub.sync_synqhub_metadata()"
   ]
  },
  {
   "cell_type": "code",
   "execution_count": null,
   "metadata": {},
   "outputs": [],
   "source": [
    "# ✅ Verify Plugin Signature\n",
    "remote_hub.validate_remote_signature(\"qchem_opt\")"
   ]
  }
 ],
 "metadata": {
  "kernelspec": {
   "display_name": "Python 3",
   "language": "python",
   "name": "python3"
  },
  "language_info": {
   "name": "python"
  }
 },
 "nbformat": 4,
 "nbformat_minor": 5
}