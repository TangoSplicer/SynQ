{
 "cells": [
  {
   "cell_type": "markdown",
   "metadata": {},
   "source": "# 27: Runtime Execution Shell\n\nLaunch a sandboxed interpreter to run SynQ code interactively."
  },
  {
   "cell_type": "code",
   "execution_count": null,
   "metadata": {},
   "outputs": [],
   "source": "from synq.runtime import exec_shell\n\nexec_shell.startInteractive(mode=\"sandbox\")\n# Accepts SynQ code input, visualizes live stack + output per eval"
  }
 ],
 "metadata": {},
 "nbformat": 4,
 "nbformat_minor": 2
}