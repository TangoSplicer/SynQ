

✅ 4. synq/notebooks/51_ai_tutor_demo.ipynb

# Notebook 51: SynQ AI Tutor Demo

This notebook demonstrates real-time usage of the AI Tutor in CLI, REPL, and Notebook.

# Ask a REPL command from notebook
!synq tutor how "What is decoherence?"

# Request doc generation on runtime file
!synq tutor scan ./src/runtime/vm.cpp

# Request a trace analysis
!synq tutor trace ./tests/ai/sample_trace.txt

# Request a tutorial walkthrough
!synq tutor tutorial GroverSearch


---

✅ Wired into CLI alias, REPL extension, REPL runtime hook, and a new notebook.

Would you like me to zip and return the updated AI tutor system, or proceed to AI skill scaffolding or federation publishing?

