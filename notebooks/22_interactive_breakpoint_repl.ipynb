{
 "cells": [
  {
   "cell_type": "markdown",
   "metadata": {},
   "source": "# 22: Interactive Breakpoint REPL\n\nLaunches a REPL when hitting breakpoints to inspect variables."
  },
  {
   "cell_type": "code",
   "execution_count": null,
   "metadata": {},
   "outputs": [],
   "source": "from synq.debugger import repl_breakpoint\n\nrepl_breakpoint.set(\"risky_math\")\nrepl_breakpoint.run(\"examples/debugger_demo.synq\")"
  }
 ],
 "metadata": {},
 "nbformat": 4,
 "nbformat_minor": 2
}