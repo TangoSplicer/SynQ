{
 "cells": [
  {
   "cell_type": "markdown",
   "metadata": {},
   "source": "# 34: App Packaging Export\n\nPackage and export SynQ projects as binaries, CLI tools, or containers."
  },
  {
   "cell_type": "code",
   "execution_count": null,
   "metadata": {},
   "outputs": [],
   "source": "from synq.deploy import packager\n\npackager.export_binary(\"apps/energy_model.synq\", format=\"synqpkg\")\npackager.export_docker(\"apps/ai_agent.synq\")\npackager.export_wasm(\"examples/quantum_demo.synq\")"
  }
 ],
 "metadata": {},
 "nbformat": 4,
 "nbformat_minor": 2
}