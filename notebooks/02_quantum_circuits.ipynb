# ⚛️ Quantum Circuits in SynQ
# This notebook demonstrates how to build and simulate quantum circuits using SynQ's DSL.

# 🔹 Step 1: Initialize a basic quantum circuit
# Define a simple two-qubit entanglement.

@circuit entangle_pair
H(0)
CNOT(0, 1)
@end

run entangle_pair

# 📏 Step 2: Add Rotation Gates
# We can insert parameterized gates too.

@circuit rotate_then_entangle
H(0)
RZ(pi/4, 0)
CNOT(0, 1)
@end

run rotate_then_entangle

# 🧮 Step 3: Measure the Qubits
# This gives classical output from quantum states.

@circuit measure_test
H(0)
CNOT(0, 1)
MEASURE(0)
MEASURE(1)
@end

result = run measure_test
print(result)

# 🎯 Step 4: Visualize the Circuit
# Useful for understanding gate order.

@visual_start
H(0); CNOT(0,1); RZ(pi/2, 0)
@visual_end("viz_qc", title="Basic Circuit")

# ✅ Summary
# In this notebook we:
# - Defined quantum circuits
# - Used entangling and rotation gates
# - Measured qubit states
# - Visualized the gate sequence