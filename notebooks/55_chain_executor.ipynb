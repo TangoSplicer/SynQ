{
 "cells": [
  {
   "cell_type": "markdown",
   "metadata": {},
   "source": [
    "# ⚙️ SynQ Distributed Execution Chain (DEC) Notebook\n",
    "This notebook demonstrates loading and running job DAGs using the DEC engine."
   ]
  },
  {
   "cell_type": "code",
   "execution_count": null,
   "metadata": {},
   "outputs": [],
   "source": [
    "from src.chain.execution_graph import run_chain_file\n",
    "\n",
    "# Run an example job chain\n",
    "run_chain_file(\"examples/qbuild.chain.json\")"
   ]
  }
 ],
 "metadata": {
  "kernelspec": {
   "display_name": "Python 3",
   "language": "python",
   "name": "python3"
  },
  "language_info": {
   "name": "python"
  }
 },
 "nbformat": 4,
 "nbformat_minor": 5
}