### ✅ `synq/notebooks/52_sign_demo.ipynb`

```markdown
# Notebook 52: Plugin Signing and Verification

This notebook demonstrates how to sign and verify plugins in SynQ.

# Sign a plugin
!synq sign --sign ./plugins/demo.synq dev1

# Verify signature
!synq sign --verify ./plugins/demo.synq dev1

# Tamper to test failure
!echo "// change" >> ./plugins/demo.synq
!synq sign --verify ./plugins/demo.synq dev1
