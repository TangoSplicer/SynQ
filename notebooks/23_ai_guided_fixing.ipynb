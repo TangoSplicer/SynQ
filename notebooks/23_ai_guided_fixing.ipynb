{
 "cells": [
  {
   "cell_type": "markdown",
   "metadata": {},
   "source": "# 23: AI-Guided Fixing\n\nDemonstrates how LLMs suggest code fixes during a debug session."
  },
  {
   "cell_type": "code",
   "execution_count": null,
   "metadata": {},
   "outputs": [],
   "source": "from synq.debugger import debugger_ai_assist as ai\n\nai.explain(\"IndexError: list index out of range\")\nai.suggestFix(\"IndexError: list index out of range\")"
  }
 ],
 "metadata": {},
 "nbformat": 4,
 "nbformat_minor": 2
}