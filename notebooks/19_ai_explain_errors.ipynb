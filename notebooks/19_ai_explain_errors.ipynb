{
 "cells": [
  {
   "cell_type": "markdown",
   "metadata": {},
   "source": "# 19: AI Explain Errors\n\nUse LLM to explain confusing runtime errors."
  },
  {
   "cell_type": "code",
   "execution_count": null,
   "metadata": {},
   "outputs": [],
   "source": "from synq.debugger import debugger_ai_assist as ai\n\nai.explain(\"type error: string + int\")\nai.explain(\"object is not callable\")"
  }
 ],
 "metadata": {},
 "nbformat": 4,
 "nbformat_minor": 2
}