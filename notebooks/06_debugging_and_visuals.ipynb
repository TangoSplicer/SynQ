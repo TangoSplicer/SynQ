# 🧪 Debugging + Visuals in SynQ

## Step 1: Profiling a Circuit Block
@profiler_start("depth_test")
QAOA(steps=2)
@profiler_end("depth_test")

## Step 2: Visualize a Circuit
@visual_start
H(0); CNOT(0,1); RY(pi/3,1)
@visual_end("debug_viz")

## ✅ Summary
Use `@profiler_*` and `@visual_*` to interpret execution flow easily.