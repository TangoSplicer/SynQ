# 🧩 Plugin System in SynQ

## Step 1: Register Plugin
register_plugin("multiplier", "1.0", "Multiplies two values", (x,y) => x*y)

## Step 2: Invoke Plugin
result = invoke_plugin("multiplier", { "x": 3, "y": 4 })
print("Plugin Result:", result)

## Step 3: List Available Plugins
print(list_plugins())

## ✅ Summary
Plugins in SynQ are first-class and easy to define and extend.