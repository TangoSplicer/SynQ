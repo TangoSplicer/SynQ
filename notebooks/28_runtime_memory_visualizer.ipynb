{
 "cells": [
  {
   "cell_type": "markdown",
   "metadata": {},
   "source": "# 28: Runtime Memory Visualizer\n\nView and interact with memory snapshots and changes across execution frames."
  },
  {
   "cell_type": "code",
   "execution_count": null,
   "metadata": {},
   "outputs": [],
   "source": "from synq.runtime import memory_graph\n\nmemory_graph.snapshot()\nmemory_graph.diff(\"previous\")\nmemory_graph.render(mode=\"tree\")  # Also supports 'table', 'hex'"
  }
 ],
 "metadata": {},
 "nbformat": 4,
 "nbformat_minor": 2
}