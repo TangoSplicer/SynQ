{
 "cells": [
  {
   "cell_type": "markdown",
   "metadata": {},
   "source": "# 36: Quantum Backend Selector\n\nChoose target quantum environments for live or sim execution."
  },
  {
   "cell_type": "code",
   "execution_count": null,
   "metadata": {},
   "outputs": [],
   "source": "from synq.deploy import qbackend_selector\n\nqbackend_selector.list_available()\nqbackend_selector.select(\"IonQ-sim\")\nqbackend_selector.export_config(\".qcfg\")"
  }
 ],
 "metadata": {},
 "nbformat": 4,
 "nbformat_minor": 2
}