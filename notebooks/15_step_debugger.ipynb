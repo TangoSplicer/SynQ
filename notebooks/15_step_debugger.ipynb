{
 "cells": [
  {
   "cell_type": "markdown",
   "metadata": {},
   "source": "# 15: Step Debugger\n\nStep line-by-line through a SynQ function with REPL overlay."
  },
  {
   "cell_type": "code",
   "execution_count": null,
   "metadata": {},
   "outputs": [],
   "source": "from synq.debugger import debugger_core as dbg\n\ndbg.loadScript(\"examples/debugger_demo.synq\")\ndbg.setStepMode(True)\ndbg.run()"
  }
 ],
 "metadata": {},
 "nbformat": 4,
 "nbformat_minor": 2
}