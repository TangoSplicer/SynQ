{
 "nbformat": 4,
 "nbformat_minor": 5,
 "metadata": {
  "kernelspec": {
   "display_name": "SynQ Kernel",
   "language": "python",
   "name": "python3"
  },
  "language_info": {
   "name": "python",
   "version": "3.10"
  }
 },
 "cells": [
  {
   "cell_type": "markdown",
   "source": [
    "# 🔁 Debug Trace Replayer\n",
    "Simulate and visually step through an exported trace file from SynQ’s runtime system.\n",
    "\n",
    "- Accepts `.json` from `debug_exporter`\n",
    "- Renders each step\n",
    "- Displays stage metadata\n",
    "- Simulates timing\n"
   ]
  },
  {
   "cell_type": "code",
   "execution_count": null,
   "source": [
    "import json\n",
    "import time\n",
    "from IPython.display import clear_output, Markdown\n",
    "\n",
    "# Load JSON trace file (can also be replaced by input from runtime)\n",
    "trace_json = '''[\n",
    "  {\"stage\": \"Init\", \"type\": \"classical\", \"start\": 0, \"end\": 100, \"duration\": \"100ms\", \"result\": \"OK\"},\n",
    "  {\"stage\": \"Quantum Bell Pair\", \"type\": \"quantum\", \"start\": 100, \"end\": 350, \"duration\": \"250ms\", \"result\": \"Entangled\"},\n",
    "  {\"stage\": \"AI Summary\", \"type\": \"ai\", \"start\": 350, \"end\": 650, \"duration\": \"300ms\", \"result\": \"Conclusion Ready\"}\n",
    "]'''\n",
    "\n",
    "trace = json.loads(trace_json)\n",
    "\n",
    "def replay(trace):\n",
    "    for i, entry in enumerate(trace):\n",
    "        clear_output(wait=True)\n",
    "        md = f\"\"\"\n",
    "### 🔂 Trace Step {i+1}/{len(trace)}\n",
    "- **Stage:** `{entry['stage']}`\n",
    "- **Type:** `{entry['type']}`\n",
    "- **Duration:** `{entry['duration']}`\n",
    "- **Result:** `{entry['result']}`\n",
    "\"\"\"\n",
    "        display(Markdown(md))\n",
    "        time.sleep(float(entry['duration'].replace('ms','')) / 1000)\n",
    "        \n",
    "replay(trace)"
   ],
   "outputs": [],
   "metadata": {}
  }
 ]
}