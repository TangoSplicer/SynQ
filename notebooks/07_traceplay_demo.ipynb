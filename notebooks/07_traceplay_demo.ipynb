{
 "cells": [
  {
   "cell_type": "markdown",
   "metadata": {},
   "source": "# 07: Traceplay Demo\n\nThis notebook demonstrates SynQ's debug trace tree capturing and playback system."
  },
  {
   "cell_type": "code",
   "execution_count": null,
   "metadata": {},
   "outputs": [],
   "source": "from synq.debugger import debug_trace_tree as trace\n\n# Simulate trace path\ntrace.enterFunction(\"main\")\ntrace.enterFunction(\"compute\")\ntrace.enterFunction(\"helper\")\ntrace.exitFunction()\ntrace.exitFunction()\ntrace.exitFunction()\n\ntrace.printTrace()"
  }
 ],
 "metadata": {},
 "nbformat": 4,
 "nbformat_minor": 2
}