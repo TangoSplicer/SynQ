{
 "cells": [
  {
   "cell_type": "markdown",
   "id": "cd60b006",
   "metadata": {},
   "source": [
    "# Notebook 49: SynQ AI Tutor AutoGuide"
   ]
  },
  {
   "cell_type": "markdown",
   "id": "2750231c",
   "metadata": {},
   "source": [
    "This notebook demonstrates using the built-in SynQ AI Tutor."
   ]
  },
  {
   "cell_type": "code",
   "execution_count": null,
   "id": "e22eaa32",
   "metadata": {},
   "outputs": [],
   "source": [
    "# Ask for a tutorial\n",
    "!synq ai tutor \"Teach me about quantum teleportation in SynQ.\" "
   ]
  },
  {
   "cell_type": "code",
   "execution_count": null,
   "id": "3963aef7",
   "metadata": {},
   "outputs": [],
   "source": [
    "# Ask for help with a specific file\n",
    "!synq ai tutor --file ./src/runtime/vm.cpp"
   ]
  }
 ],
 "metadata": {},
 "nbformat": 4,
 "nbformat_minor": 5
}