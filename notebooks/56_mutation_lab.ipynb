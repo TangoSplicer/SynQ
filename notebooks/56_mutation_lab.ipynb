{
 "cells": [
  {
   "cell_type": "markdown",
   "metadata": {},
   "source": [
    "# 🧪 SynQ Mutation Lab\n",
    "Visualize mutations across plugin generations."
   ]
  },
  {
   "cell_type": "code",
   "metadata": {},
   "source": [
    "import json\n",
    "from pathlib import Path\n",
    "from difflib import unified_diff\n",
    "\n",
    "log = json.load(open(\"mutation_log.json\"))\n",
    "for entry in log:\n",
    "    print(f\"🔄 {entry['plugin']} → {entry['hash']} at {entry['time']}\")\n",
    "\n",
    "def show_diff(before, after):\n",
    "    a = Path(before).read_text().splitlines()\n",
    "    b = Path(after).read_text().splitlines()\n",
    "    for line in unified_diff(a, b, fromfile=before, tofile=after):\n",
    "        print(line)"
   ]
  }
 ],
 "metadata": {
  "kernelspec": {
   "display_name": "Python 3",
   "name": "python3"
  },
  "language_info": {
   "name": "python"
  }
 },
 "nbformat": 4,
 "nbformat_minor": 5
}