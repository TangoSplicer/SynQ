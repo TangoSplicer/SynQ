{
 "cells": [
  {
   "cell_type": "markdown",
   "metadata": {},
   "source": "# 32: Symbolic Command REPL\n\nManipulate algebraic and symbolic structures live."
  },
  {
   "cell_type": "code",
   "execution_count": null,
   "metadata": {},
   "outputs": [],
   "source": "from synq.kernel import symbolic_repl\n\nsymbolic_repl.eval(\"integrate(sin(x))\")\nsymbolic_repl.simplify(\"x^2 + 2x + 1\")\nsymbolic_repl.transform(\"expand((x + 1)^2)\")"
  }
 ],
 "metadata": {},
 "nbformat": 4,
 "nbformat_minor": 2
}