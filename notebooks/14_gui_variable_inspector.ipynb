{
 "cells": [
  {
   "cell_type": "markdown",
   "metadata": {},
   "source": "# 14: GUI Variable Inspector\n\nVisualize all active variables in a table-like structure."
  },
  {
   "cell_type": "code",
   "execution_count": null,
   "metadata": {},
   "outputs": [],
   "source": "from synq.debugger import symbol_visualizer\n\nsymbol_visualizer.define(\"player\", \"{name: 'Zara', hp: 100}\")\nsymbol_visualizer.define(\"enemy\", \"{name: 'Bot', hp: 85}\")\n\nsymbol_visualizer.showAll()"
  }
 ],
 "metadata": {},
 "nbformat": 4,
 "nbformat_minor": 2
}