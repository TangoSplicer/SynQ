{
 "nbformat": 4,
 "nbformat_minor": 5,
 "metadata": {
  "kernelspec": {
   "display_name": "SynQ Kernel",
   "language": "python",
   "name": "python3"
  },
  "language_info": {
   "name": "python",
   "version": "3.10"
  }
 },
 "cells": [
  {
   "cell_type": "markdown",
   "source": [
    "# ⚙️ Distributed Compilation Visualizer\n",
    "Shows how SynQ compiles modules across remote/local workers.\n",
    "\n",
    "- Simulated compile jobs\n",
    "- Gantt chart of dispatch timeline\n",
    "- Worker load display"
   ],
   "metadata": {}
  },
  {
   "cell_type": "code",
   "execution_count": null,
   "metadata": {},
   "outputs": [],
   "source": [
    "import random\n",
    "import time\n",
    "import pandas as pd\n",
    "import matplotlib.pyplot as plt\n",
    "import matplotlib.patches as mpatches\n",
    "\n",
    "# Sample jobs and workers\n",
    "jobs = [f\"Job_{i}\" for i in range(1, 9)]\n",
    "workers = [\"Worker_A\", \"Worker_B\", \"Worker_C\"]\n",
    "\n",
    "timeline = []\n",
    "now = 0\n",
    "\n",
    "for job in jobs:\n",
    "    worker = random.choice(workers)\n",
    "    duration = random.randint(100, 600)\n",
    "    timeline.append({\n",
    "        \"Job\": job,\n",
    "        \"Worker\": worker,\n",
    "        \"Start\": now,\n",
    "        \"End\": now + duration\n",
    "    })\n",
    "    now += duration // 2\n",
    "\n",
    "df = pd.DataFrame(timeline)\n",
    "fig, ax = plt.subplots(figsize=(10, 6))\n",
    "\n",
    "colors = {\n",
    "    \"Worker_A\": \"skyblue\",\n",
    "    \"Worker_B\": \"lightgreen\",\n",
    "    \"Worker_C\": \"salmon\"\n",
    "}\n",
    "\n",
    "for i, row in df.iterrows():\n",
    "    ax.barh(row['Worker'], row['End'] - row['Start'], left=row['Start'], color=colors[row['Worker']])\n",
    "    ax.text(row['Start'] + 5, row['Worker'], row['Job'], va='center', fontsize=8, color='black')\n",
    "\n",
    "ax.set_title(\"📦 Distributed Compile Job Timeline\")\n",
    "ax.set_xlabel(\"ms\")\n",
    "ax.grid(True)\n",
    "plt.tight_layout()\n",
    "plt.show()"
   ]
  }
 ]
}