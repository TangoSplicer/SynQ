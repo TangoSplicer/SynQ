{
 "cells": [
  {
   "cell_type": "markdown",
   "metadata": {},
   "source": "# 29: Runtime Device Interface\n\nSimulate and monitor CPU/QPU device activity from the runtime."
  },
  {
   "cell_type": "code",
   "execution_count": null,
   "metadata": {},
   "outputs": [],
   "source": "from synq.runtime import device_monitor\n\ndevice_monitor.connect(\"qpu://local:3399\")\ndevice_monitor.streamIO()\ndevice_monitor.plotUsage(real_time=True)"
  }
 ],
 "metadata": {},
 "nbformat": 4,
 "nbformat_minor": 2
}