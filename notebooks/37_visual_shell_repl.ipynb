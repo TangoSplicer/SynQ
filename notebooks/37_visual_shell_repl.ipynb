{
  "cells": [
    {
      "cell_type": "markdown",
      "source": [
        "# 🧠 SynQ Visual Shell REPL\n",
        "An interactive, hybrid REPL for experimenting with SynQ's classical, quantum, and AI features."
      ]
    },
    {
      "cell_type": "code",
      "source": [
        "from synq_repl import REPL, ExecutionMode\n",
        "from synq_repl import SmartAssist, CopilotAgent\n",
        "\n",
        "repl = REPL()\n",
        "assist = SmartAssist()\n",
        "copilot = CopilotAgent()"
      ]
    },
    {
      "cell_type": "code",
      "source": [
        "# 🔀 Set mode (choose one: classical, quantum, hybrid, ai)\n",
        "repl.set_mode(ExecutionMode.HYBRID)"
      ]
    },
    {
      "cell_type": "code",
      "source": [
        "# 📝 Input your SynQ code here:\n",
        "code = \"\"\"\n",
        "let x = 3;\n",
        "let y = 4;\n",
        "x + y;\n",
        "\"\"\"\n",
        "repl.append_to_buffer(code)\n",
        "result = repl.evaluate()\n",
        "print(\"✅ Output:\", result.output)"
      ]
    },
    {
      "cell_type": "code",
      "source": [
        "# 💡 Smart Assist: Docstring Lookup\n",
        "print(assist.get_doc_for(\"let\"))"
      ]
    },
    {
      "cell_type": "code",
      "source": [
        "# 🧠 AI Copilot: Error Fix & Explanation\n",
        "print(copilot.explain_error(\"let x = ;\"))"
      ]
    }
  ],
  "metadata": {
    "kernelspec": {
      "display_name": "Python 3",
      "language": "python",
      "name": "python3"
    },
    "language_info": {
      "name": "python"
    }
  },
  "nbformat": 4,
  "nbformat_minor": 2
}