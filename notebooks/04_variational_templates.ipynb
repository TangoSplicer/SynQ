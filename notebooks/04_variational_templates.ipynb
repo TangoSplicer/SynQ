# 🧪 Variational Circuits with SynQ

## Step 1: Create a Parametrized Circuit
@param theta
@circuit qaoa_template
H(0); CX(0,1); RZ(theta, 0); H(1)
@end

## Step 2: Sweep the Parameters
for theta in [0, pi/4, pi/2, pi]:
    run qaoa_template(theta)

## ✅ Summary
You’ve built a variational template with dynamic parameters!