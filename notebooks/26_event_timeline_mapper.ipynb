{
 "cells": [
  {
   "cell_type": "markdown",
   "metadata": {},
   "source": "# 26: Event Timeline Mapper\n\nVisualizes every debug event across a dynamic canvas."
  },
  {
   "cell_type": "code",
   "execution_count": null,
   "metadata": {},
   "outputs": [],
   "source": "from synq.debugger import timeline_mapper\n\ntimeline_mapper.load(\"examples/debugger_demo.synq\")\ntimeline_mapper.recordAllEvents()\ntimeline_mapper.renderInteractive()  # Opens HTML canvas or Jupyter widget"
  }
 ],
 "metadata": {},
 "nbformat": 4,
 "nbformat_minor": 2
}