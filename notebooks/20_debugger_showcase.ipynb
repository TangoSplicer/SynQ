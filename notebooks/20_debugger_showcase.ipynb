{
 "cells": [
  {
   "cell_type": "markdown",
   "metadata": {},
   "source": "# 20: Debugger Showcase\n\nFull session flow: load script, break, step, inspect, exit."
  },
  {
   "cell_type": "code",
   "execution_count": null,
   "metadata": {},
   "outputs": [],
   "source": "from synq.debugger import debugger_core as dbg\n\ndbg.loadScript(\"examples/debugger_demo.synq\")\ndbg.defineBreakpoint(\"risky_math\")\ndbg.run()"
  }
 ],
 "metadata": {},
 "nbformat": 4,
 "nbformat_minor": 2
}