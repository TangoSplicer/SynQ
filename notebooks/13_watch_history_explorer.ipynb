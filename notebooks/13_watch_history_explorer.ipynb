{
 "cells": [
  {
   "cell_type": "markdown",
   "metadata": {},
   "source": "# 13: Watch History Explorer\n\nTrack changes to variables over time."
  },
  {
   "cell_type": "code",
   "execution_count": null,
   "metadata": {},
   "outputs": [],
   "source": "from synq.debugger import watch_tracker\nfrom synq.runtime import eval_context as ctx\n\nctx.define(\"x\", \"10\")\nwatch_tracker.watch(\"x\")\nctx.define(\"x\", \"20\")\nctx.define(\"x\", \"30\")\nwatch_tracker.show(\"x\")"
  }
 ],
 "metadata": {},
 "nbformat": 4,
 "nbformat_minor": 2
}