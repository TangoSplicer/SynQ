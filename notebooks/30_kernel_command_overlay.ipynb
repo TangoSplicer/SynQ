{
 "cells": [
  {
   "cell_type": "markdown",
   "metadata": {},
   "source": "# 30: Kernel Command Overlay\n\nExtend REPL with %commands for tracing, AI, and plugin operations."
  },
  {
   "cell_type": "code",
   "execution_count": null,
   "metadata": {},
   "outputs": [],
   "source": "from synq.kernel import repl_overlay\n\nrepl_overlay.register(\"%trace\", \"Dump trace info\")\nrepl_overlay.register(\"%plugin\", \"List active plugins\")\nrepl_overlay.register(\"%llm\", \"Send to AI copilot\")\n\nrepl_overlay.startInteractive()"
  }
 ],
 "metadata": {},
 "nbformat": 4,
 "nbformat_minor": 2
}