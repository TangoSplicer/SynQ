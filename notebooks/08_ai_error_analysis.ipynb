{
 "cells": [
  {
   "cell_type": "markdown",
   "metadata": {},
   "source": "# 08: AI-Assisted Error Analysis\n\nDemonstrates how the debugger AI module explains runtime errors."
  },
  {
   "cell_type": "code",
   "execution_count": null,
   "metadata": {},
   "outputs": [],
   "source": "from synq.debugger import debugger_ai_assist as ai\n\nai.explain(\"undefined variable 'x'\")\nai.explain(\"type error: string + int\")\nai.explain(\"division by zero\")"
  }
 ],
 "metadata": {},
 "nbformat": 4,
 "nbformat_minor": 2
}