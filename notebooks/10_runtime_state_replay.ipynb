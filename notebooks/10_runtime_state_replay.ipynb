{
 "cells": [
  {
   "cell_type": "markdown",
   "metadata": {},
   "source": "# 10: Runtime State Replay\n\nSave and restore REPL variable states."
  },
  {
   "cell_type": "code",
   "execution_count": null,
   "metadata": {},
   "outputs": [],
   "source": "from synq.debugger import context_snapshot as snap\nfrom synq.runtime import eval_context as ctx\n\nctx.define(\"x\", \"42\")\nctx.define(\"y\", \"hello\")\nsnap.save(\"session.repl\")\n\nctx.define(\"y\", \"mutated\")\nsnap.restore(\"session.repl\")"
  }
 ],
 "metadata": {},
 "nbformat": 4,
 "nbformat_minor": 2
}