{
 "nbformat": 4,
 "nbformat_minor": 5,
 "metadata": {
  "kernelspec": {
   "display_name": "SynQ Kernel",
   "language": "python",
   "name": "python3"
  },
  "language_info": {
   "name": "python",
   "version": "3.10"
  }
 },
 "cells": [
  {
   "cell_type": "markdown",
   "metadata": {},
   "source": [
    "# 🎯 Multi-Target Codegen Explorer\n",
    "\n",
    "This notebook demonstrates SynQ's ability to compile the same logical program into multiple backend targets:\n",
    "\n",
    "- 🖥️ Native x86 Assembly\n",
    "- 🌐 WebAssembly\n",
    "- ⚛️ Qiskit QASM\n",
    "- 🔀 SynQVM Hybrid Bytecode\n",
    "\n",
    "---\n",
    "We'll simulate a shared AST, then view what each codegen backend emits."
   ]
  },
  {
   "cell_type": "code",
   "execution_count": null,
   "metadata": {},
   "outputs": [],
   "source": [
    "# Simulated shared AST (simplified)\n",
    "ast = {\n",
    "    \"type\": \"Program\",\n",
    "    \"body\": [\"load q[0]\", \"h q[0]\", \"measure q[0]\"]\n",
    "}"
   ]
  },
  {
   "cell_type": "markdown",
   "metadata": {},
   "source": [
    "## 🖥️ x86_64 Output"
   ]
  },
  {
   "cell_type": "code",
   "execution_count": null,
   "metadata": {},
   "outputs": [],
   "source": [
    "print(\"\"\"\n",
    "; SynQ → x86_64 Codegen\n",
    "section .text\n",
    "global _start\n",
    "\n",
    "_start:\n",
    "  mov eax, 1\n",
    "  int 0x80\n",
    "\"\"\")"
   ]
  },
  {
   "cell_type": "markdown",
   "metadata": {},
   "source": [
    "## 🌐 WebAssembly Output"
   ]
  },
  {
   "cell_type": "code",
   "execution_count": null,
   "metadata": {},
   "outputs": [],
   "source": [
    "print(\"\"\"\n",
    "(module\n",
    "  (func (export \\\"main\\\")\n",
    "    i32.const 42\n",
    "    drop\n",
    "  )\n",
    ")\n",
    "\"\"\")"
   ]
  },
  {
   "cell_type": "markdown",
   "metadata": {},
   "source": [
    "## ⚛️ Qiskit Output (QASM)"
   ]
  },
  {
   "cell_type": "code",
   "execution_count": null,
   "metadata": {},
   "outputs": [],
   "source": [
    "print(\"\"\"\n",
    "OPENQASM 2.0;\n",
    "include \\\"qelib1.inc\\\";\n",
    "qreg q[1];\n",
    "h q[0];\n",
    "measure q[0] -> c[0];\n",
    "\"\"\")"
   ]
  },
  {
   "cell_type": "markdown",
   "metadata": {},
   "source": [
    "## 🔀 SynQVM Hybrid Output"
   ]
  },
  {
   "cell_type": "code",
   "execution_count": null,
   "metadata": {},
   "outputs": [],
   "source": [
    "print(\"\"\"\n",
    "MODULE {\n",
    "  HYBRID_START\n",
    "  LOAD QREG 0\n",
    "  APPLY H 0\n",
    "  MEASURE 0 -> C0\n",
    "  HYBRID_END\n",
    "}\n",
    "\"\"\")"
   ]
  }
 ]
}