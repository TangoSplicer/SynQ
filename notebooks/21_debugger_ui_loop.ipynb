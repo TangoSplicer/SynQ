{
 "cells": [
  {
   "cell_type": "markdown",
   "metadata": {},
   "source": "# 21: Debugger UI Loop\n\nSimulates a command-line debugger interface using SynQ."
  },
  {
   "cell_type": "code",
   "execution_count": null,
   "metadata": {},
   "outputs": [],
   "source": "from synq.debugger import cli_debugger\n\ncli_debugger.start()  # Accepts input: 'bt', 'show x', 'exit', etc."
  }
 ],
 "metadata": {},
 "nbformat": 4,
 "nbformat_minor": 2
}