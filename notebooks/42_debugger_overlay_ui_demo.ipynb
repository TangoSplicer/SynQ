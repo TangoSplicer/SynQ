{
 "nbformat": 4,
 "nbformat_minor": 5,
 "metadata": {
  "kernelspec": {
   "display_name": "SynQ Kernel",
   "language": "python",
   "name": "python3"
  },
  "language_info": {
   "name": "python"
  }
 },
 "cells": [
  {
   "cell_type": "markdown",
   "source": [
    "# 🧠 Debugger Overlay Simulation\n",
    "Simulates the UI for SynQ's DebuggerOverlay subsystem.\n",
    "- Logs\n",
    "- Breakpoints\n",
    "- Current Stage"
   ]
  },
  {
   "cell_type": "code",
   "source": [
    "from IPython.display import display, Markdown\n",
    "\n",
    "class OverlayUI:\n",
    "    def __init__(self):\n",
    "        self.stage = \"\"\n",
    "        self.status = \"\"\n",
    "        self.logs = []\n",
    "        self.breakpoints = []\n",
    "\n",
    "    def enter_stage(self, name):\n",
    "        self.stage = name\n",
    "        self.status = \"running\" if name not in self.breakpoints else \"paused\"\n",
    "        if self.status == \"paused\":\n",
    "            self.logs.append(f\"🛑 Breakpoint hit at {name}\")\n",
    "\n",
    "    def log(self, msg):\n",
    "        self.logs.append(msg)\n",
    "\n",
    "    def set_breakpoints(self, bps):\n",
    "        self.breakpoints = bps\n",
    "\n",
    "    def render(self):\n",
    "        out = f\"### 🔍 Debugger UI\\n- Stage: `{self.stage}`\\n- Status: `{self.status}`\\n\\n**Logs:**\\n\"\n",
    "        out += '\\n'.join([f\"- {log}\" for log in self.logs])\n",
    "        display(Markdown(out))\n",
    "\n",
    "# Simulate\n",
    "ui = OverlayUI()\n",
    "ui.set_breakpoints([\"Quantum Bell Pair\"])\n",
    "ui.enter_stage(\"Classical Init\")\n",
    "ui.log(\"Preparing classical state\")\n",
    "ui.render()\n",
    "ui.enter_stage(\"Quantum Bell Pair\")\n",
    "ui.render()"
   ]
  }
 ]
}