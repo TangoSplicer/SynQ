---

### ✅ File: `synq/notebooks/57_score_dashboard.ipynb`  
📊 **Score Visualizer Notebook**

```json
{
 "cells": [
  {
   "cell_type": "markdown",
   "source": ["# 📊 Plugin Score Dashboard\nVisual inspection of plugin ratings"]
  },
  {
   "cell_type": "code",
   "source": [
    "from synqlib import score_plugin\n",
    "results = score_plugin(\"examples/plugins/teleport/\")\n",
    "for k, v in results.items():\n",
    "    print(f\"{k:>15}: {v}\")"
   ]
  }
 ],
 "metadata": {
  "kernelspec": { "name": "python3", "display_name": "Python 3" },
  "language_info": { "name": "python" }
 },
 "nbformat": 4,
 "nbformat_minor": 5
}