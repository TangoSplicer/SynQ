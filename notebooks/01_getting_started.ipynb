# 🧭 Getting Started with SynQ
Welcome to SynQ!

In this notebook, you'll:
- Learn basic SynQ syntax
- Explore modules and the DSL
- See how plugins and models integrate
- Run example code

## ✨ Hello, SynQ
Let’s start with a minimal SynQ program.

# SynQ DSL Simulation (Pythonic pseudocode)
print("Hello from SynQ!")

## 📦 Modules
SynQ organizes code using DSL modules.
Importing a module looks like this:

# DSL syntax (represented in pseudocode)
@import quantum.core
@import ai_fusion
@import plugin_store

## 🔌 Using a Plugin
SynQ lets you dynamically register plugins.

register_plugin("double", "1.0", "doubles input", (x) => x.value * 2)
result = invoke_plugin("double", { "value": 7 })
print("Plugin Output:", result)

## 🧠 Model Calls
Call a model from within the DSL:

response = call_model("llama", "Explain what a qubit is.")
print("LLM Response:", response)

## ✅ Summary
In this notebook you:
- Ran simple SynQ programs
- Imported core modules
- Registered and used plugins
- Called an AI model

Up next: quantum circuits! ⚛️