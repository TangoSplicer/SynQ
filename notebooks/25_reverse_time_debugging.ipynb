{
 "cells": [
  {
   "cell_type": "markdown",
   "metadata": {},
   "source": "# 25: Reverse Time Debugging\n\nRewinds program execution to previous states. Timeline traversal for quantum+classical environments."
  },
  {
   "cell_type": "code",
   "execution_count": null,
   "metadata": {},
   "outputs": [],
   "source": "from synq.debugger import reverse_engine\n\nreverse_engine.load(\"examples/debugger_demo.synq\")\nreverse_engine.runToBreakpoint(\"collapse_event\")\n\n# Rewind execution by 3 steps\nreverse_engine.stepBack(3)\nreverse_engine.inspectState()"
  }
 ],
 "metadata": {},
 "nbformat": 4,
 "nbformat_minor": 2
}